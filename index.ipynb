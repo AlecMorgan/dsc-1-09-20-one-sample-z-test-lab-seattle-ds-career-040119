{
 "cells": [
  {
   "cell_type": "markdown",
   "metadata": {},
   "source": [
    "# One-sample z-test - Lab\n",
    "\n",
    "### Introduction\n",
    "In this lab we will go through quick tests to help you better understand the ideas around hypothesis testing.\n",
    "\n",
    "## Objectives\n",
    "You would be able to\n",
    "* Understand and explain use cases for a 1-sample z-test\n",
    "* Set up null and alternative hypotheses\n",
    "* Calculate z statistic using z-tables and cdf functions\n",
    "* Calculate and interpret p-value for significance of results."
   ]
  },
  {
   "cell_type": "markdown",
   "metadata": {},
   "source": [
    "## Exercise 1\n",
    "A rental car company claims the mean time to rent a car on their website is 60 seconds with a standard deviation of 30 seconds. A random sample of 36 customers attempted to rent a car on the website. The mean time to rent was 75 seconds. Is this enough evidence to contradict the company's claim? \n",
    "\n",
    "<img src=\"http://www.guptatravelsjabalpur.com/wp-content/uploads/2016/04/car-rentalservice.jpg\" width=400>\n",
    "\n",
    "Follow the 5 steps shown in previous lesson and use alpha = 0.05. "
   ]
  },
  {
   "cell_type": "code",
   "execution_count": 6,
   "metadata": {},
   "outputs": [],
   "source": [
    "# State you null and alternative hypotheses"
   ]
  },
  {
   "cell_type": "markdown",
   "metadata": {},
   "source": [
    "$H_O$: Mean time to rent a car is 60 seconds.\n",
    "\n",
    "$H_a$: Mean time to rent a car is not 60 seconds.\n",
    "\n",
    "$\\alpha$: 0.05"
   ]
  },
  {
   "cell_type": "code",
   "execution_count": 7,
   "metadata": {},
   "outputs": [
    {
     "name": "stdout",
     "output_type": "stream",
     "text": [
      "p = 0.0013498980316301035, z = 3.0\n"
     ]
    }
   ],
   "source": [
    "import scipy.stats as stats\n",
    "import numpy as np\n",
    "\n",
    "x_bar = 75\n",
    "n = 36\n",
    "sigma = 30\n",
    "mu = 60\n",
    "\n",
    "z = (x_bar - mu) / (sigma / np.sqrt(n))\n",
    "pval = 1 - stats.norm.cdf(z)\n",
    "\n",
    "print(f'p = {pval}, z = {z}')\n",
    "\n",
    "# (p = 0.0013498980316301035, z = 3.0)"
   ]
  },
  {
   "cell_type": "code",
   "execution_count": 8,
   "metadata": {},
   "outputs": [],
   "source": [
    "# Interpret the results in terms of p-value obtained"
   ]
  },
  {
   "cell_type": "markdown",
   "metadata": {},
   "source": [
    "Our p-value of ~0.0013 is much smaller than our alpha of 0.05. Therefore, we reject the null hypothesis."
   ]
  },
  {
   "cell_type": "markdown",
   "metadata": {},
   "source": [
    "## Exercise 2\n",
    "\n",
    "Twenty five students complete a preparation program for taking the SAT test.  Here are the SAT scores from the 25 students who completed  program:\n",
    "\n",
    "``\n",
    "434 694 457 534 720 400 484 478 610 641 425 636 454\n",
    "514 563 370 499 640 501 625 612 471 598 509 531\n",
    "``\n",
    "\n",
    "<img src=\"http://falearningsolutions.com/wp-content/uploads/2015/09/FAcogtrain71FBimage.jpg\" width=400>\n",
    "\n",
    "We know that the population average for SAT scores is 500 with a standard deviation of 100.\n",
    "\n",
    "The question is, are these students’ SAT scores significantly greater than a population mean? \n",
    "\n",
    "*Note that the the maker of the SAT prep program claims that it will increase (and not decrease) your SAT score.  So, you would be justified in conducting a one-directional test. (alpha = .05).*\n",
    "\n"
   ]
  },
  {
   "cell_type": "code",
   "execution_count": 9,
   "metadata": {},
   "outputs": [],
   "source": [
    "# State your hypotheses "
   ]
  },
  {
   "cell_type": "markdown",
   "metadata": {},
   "source": [
    "$H_O$: Our sample's SAT scores are not significantly greater than 500.\n",
    "\n",
    "$H_a$: Our sample's SAT scores are greater than 500.\n",
    "\n",
    "$\\alpha$: 0.05"
   ]
  },
  {
   "cell_type": "code",
   "execution_count": 13,
   "metadata": {},
   "outputs": [
    {
     "name": "stdout",
     "output_type": "stream",
     "text": [
      "['434' '694' '457' '534' '720' '400' '484' '478' '610' '641' '425' '636'\n",
      " '454' '514' '563' '370' '499' '640' '501' '625' '612' '471' '598' '509'\n",
      " '531']\n"
     ]
    },
    {
     "ename": "TypeError",
     "evalue": "cannot perform reduce with flexible type",
     "output_type": "error",
     "traceback": [
      "\u001b[0;31m\u001b[0m",
      "\u001b[0;31mTypeError\u001b[0mTraceback (most recent call last)",
      "\u001b[0;32m<ipython-input-13-5a729c62705c>\u001b[0m in \u001b[0;36m<module>\u001b[0;34m()\u001b[0m\n\u001b[1;32m      8\u001b[0m \u001b[0msigma\u001b[0m \u001b[0;34m=\u001b[0m \u001b[0;36m100\u001b[0m\u001b[0;34m\u001b[0m\u001b[0m\n\u001b[1;32m      9\u001b[0m \u001b[0mn\u001b[0m \u001b[0;34m=\u001b[0m \u001b[0mlen\u001b[0m\u001b[0;34m(\u001b[0m\u001b[0msample\u001b[0m\u001b[0;34m)\u001b[0m\u001b[0;34m\u001b[0m\u001b[0m\n\u001b[0;32m---> 10\u001b[0;31m \u001b[0mx_bar\u001b[0m \u001b[0;34m=\u001b[0m \u001b[0msample\u001b[0m\u001b[0;34m.\u001b[0m\u001b[0mmean\u001b[0m\u001b[0;34m(\u001b[0m\u001b[0;34m)\u001b[0m\u001b[0;34m\u001b[0m\u001b[0m\n\u001b[0m\u001b[1;32m     11\u001b[0m \u001b[0;34m\u001b[0m\u001b[0m\n\u001b[1;32m     12\u001b[0m \u001b[0mz\u001b[0m \u001b[0;34m=\u001b[0m \u001b[0;34m(\u001b[0m\u001b[0mx_bar\u001b[0m \u001b[0;34m-\u001b[0m \u001b[0mmu\u001b[0m\u001b[0;34m)\u001b[0m \u001b[0;34m/\u001b[0m \u001b[0;34m(\u001b[0m\u001b[0msigma\u001b[0m \u001b[0;34m/\u001b[0m \u001b[0mnp\u001b[0m\u001b[0;34m.\u001b[0m\u001b[0msqrt\u001b[0m\u001b[0;34m(\u001b[0m\u001b[0mn\u001b[0m\u001b[0;34m)\u001b[0m\u001b[0;34m)\u001b[0m\u001b[0;34m\u001b[0m\u001b[0m\n",
      "\u001b[0;32m/opt/conda/envs/learn-env/lib/python3.6/site-packages/numpy/core/_methods.py\u001b[0m in \u001b[0;36m_mean\u001b[0;34m(a, axis, dtype, out, keepdims)\u001b[0m\n\u001b[1;32m     73\u001b[0m             \u001b[0mis_float16_result\u001b[0m \u001b[0;34m=\u001b[0m \u001b[0;32mTrue\u001b[0m\u001b[0;34m\u001b[0m\u001b[0m\n\u001b[1;32m     74\u001b[0m \u001b[0;34m\u001b[0m\u001b[0m\n\u001b[0;32m---> 75\u001b[0;31m     \u001b[0mret\u001b[0m \u001b[0;34m=\u001b[0m \u001b[0mumr_sum\u001b[0m\u001b[0;34m(\u001b[0m\u001b[0marr\u001b[0m\u001b[0;34m,\u001b[0m \u001b[0maxis\u001b[0m\u001b[0;34m,\u001b[0m \u001b[0mdtype\u001b[0m\u001b[0;34m,\u001b[0m \u001b[0mout\u001b[0m\u001b[0;34m,\u001b[0m \u001b[0mkeepdims\u001b[0m\u001b[0;34m)\u001b[0m\u001b[0;34m\u001b[0m\u001b[0m\n\u001b[0m\u001b[1;32m     76\u001b[0m     \u001b[0;32mif\u001b[0m \u001b[0misinstance\u001b[0m\u001b[0;34m(\u001b[0m\u001b[0mret\u001b[0m\u001b[0;34m,\u001b[0m \u001b[0mmu\u001b[0m\u001b[0;34m.\u001b[0m\u001b[0mndarray\u001b[0m\u001b[0;34m)\u001b[0m\u001b[0;34m:\u001b[0m\u001b[0;34m\u001b[0m\u001b[0m\n\u001b[1;32m     77\u001b[0m         ret = um.true_divide(\n",
      "\u001b[0;31mTypeError\u001b[0m: cannot perform reduce with flexible type"
     ]
    }
   ],
   "source": [
    "# Give your solution here \n",
    "sample = np.array('''\n",
    "434 694 457 534 720 400 484 478 610 \n",
    "641 425 636 454 514 563 370 499 640 \n",
    "501 625 612 471 598 509 531'''.split())\n",
    "print(sample)\n",
    "mu = 500\n",
    "sigma = 100\n",
    "n = len(sample)\n",
    "x_bar = sample.mean()\n",
    "\n",
    "z = (x_bar - mu) / (sigma / np.sqrt(n))\n",
    "pval = 1 - stats.norm.cdf(z)\n",
    "\n",
    "print(f'p = {pval}, z = {z}')\n",
    "\n",
    "# p = 0.03593031911292577, z = 1.8"
   ]
  },
  {
   "cell_type": "code",
   "execution_count": 11,
   "metadata": {},
   "outputs": [],
   "source": [
    "# Interpret the results in terms of p-value obtained\n"
   ]
  },
  {
   "cell_type": "markdown",
   "metadata": {},
   "source": [
    "## Summary\n",
    "\n",
    "In this lesson, we conducted a couple of simple tests comparing sample and population means, in an attempt to reject our null hypotheses. This provides you with a strong foundation to move ahead with more advanced tests and approaches in statistics. "
   ]
  },
  {
   "cell_type": "code",
   "execution_count": null,
   "metadata": {},
   "outputs": [],
   "source": []
  }
 ],
 "metadata": {
  "kernelspec": {
   "display_name": "Python 3",
   "language": "python",
   "name": "python3"
  },
  "language_info": {
   "codemirror_mode": {
    "name": "ipython",
    "version": 3
   },
   "file_extension": ".py",
   "mimetype": "text/x-python",
   "name": "python",
   "nbconvert_exporter": "python",
   "pygments_lexer": "ipython3",
   "version": "3.6.6"
  }
 },
 "nbformat": 4,
 "nbformat_minor": 2
}
